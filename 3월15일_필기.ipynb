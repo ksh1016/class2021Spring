{
  "nbformat": 4,
  "nbformat_minor": 0,
  "metadata": {
    "colab": {
      "name": "3월15일 필기",
      "provenance": [],
      "collapsed_sections": [],
      "authorship_tag": "ABX9TyNfIRsHHp/K8PWL9b098VfF",
      "include_colab_link": true
    },
    "kernelspec": {
      "name": "python3",
      "display_name": "Python 3"
    }
  },
  "cells": [
    {
      "cell_type": "markdown",
      "metadata": {
        "id": "view-in-github",
        "colab_type": "text"
      },
      "source": [
        "<a href=\"https://colab.research.google.com/github/ksh1016/class2021Spring/blob/main/3%EC%9B%9415%EC%9D%BC_%ED%95%84%EA%B8%B0.ipynb\" target=\"_parent\"><img src=\"https://colab.research.google.com/assets/colab-badge.svg\" alt=\"Open In Colab\"/></a>"
      ]
    },
    {
      "cell_type": "markdown",
      "metadata": {
        "id": "GucGIxCQRB1j"
      },
      "source": [
        "print를 사용해서 여러개의 변수를 출력할 수 있음<br>\r\n",
        "''로 문자 표현(str)<br>\r\n",
        "[]: index(몇번째, 0부터 시작)<br>\r\n",
        "list: 각 캐릭터를 나눠서 표현(ex. '123'--> 1, 2, 3)<br>\r\n",
        "list 속에 list가 포함될 수 있다.<br>\r\n",
        "tuple은 replace가 안됨(list는 가능)--> data의 측면에서 안전함<br>\r\n",
        "dict<br>\r\n",
        "s[1:3]--> 1번째에서 3번째전까지<br>\r\n",
        "s[1:]--> 1번째부터 끝까지<br>\r\n",
        "s[-1]--> 반대로 이동해서 찾기<br>\r\n",
        "s[:3]--> 제일 처음부터 3번째전까지(2번째까지)<br>\r\n",
        "len: 길이,개수 표현<br>\r\n",
        ".upper:대문자로 바꾸기<br>\r\n",
        "역/n: 한줄 바꾸기<br>\r\n",
        ".find: 인덱스를 주는 작업, 몇번째에 단어가 있는지 찾기<br>\r\n",
        "'#': 코멘트를 달 수 있는 기능<br>\r\n",
        ".strip: 공백X<br>\r\n",
        ".split: 나누기 ex) s.split:(' ')--> 빈칸을 기준으로 나누기<br>\r\n",
        "- 제어문<br>\r\n",
        "for~ in~ :<br>\r\n",
        "for 안에 for이 중첩해서 들어갈 수 있음(이중으로)"
      ]
    },
    {
      "cell_type": "code",
      "metadata": {
        "colab": {
          "base_uri": "https://localhost:8080/"
        },
        "id": "FLTxrTjOfJFk",
        "outputId": "1063ae50-758d-4e20-8125-cb0bc0ee2655"
      },
      "source": [
        "for i in range(3):\r\n",
        "  print(i)"
      ],
      "execution_count": 1,
      "outputs": [
        {
          "output_type": "stream",
          "text": [
            "0\n",
            "1\n",
            "2\n"
          ],
          "name": "stdout"
        }
      ]
    },
    {
      "cell_type": "code",
      "metadata": {
        "colab": {
          "base_uri": "https://localhost:8080/"
        },
        "id": "LU0W7uldfhgE",
        "outputId": "136648f8-ae34-4976-998d-c3efcff883d4"
      },
      "source": [
        "a=[1,2,3,4]\r\n",
        "for i in range(4):\r\n",
        "  print(a[i])"
      ],
      "execution_count": 5,
      "outputs": [
        {
          "output_type": "stream",
          "text": [
            "1\n",
            "2\n",
            "3\n",
            "4\n"
          ],
          "name": "stdout"
        }
      ]
    },
    {
      "cell_type": "code",
      "metadata": {
        "colab": {
          "base_uri": "https://localhost:8080/"
        },
        "id": "t0cfqdLbfX-b",
        "outputId": "387ee05f-d0df-4145-8eec-a0500c1c4007"
      },
      "source": [
        "a=[1,2,3,4]\r\n",
        "for i in a:\r\n",
        "  print(i)"
      ],
      "execution_count": 2,
      "outputs": [
        {
          "output_type": "stream",
          "text": [
            "1\n",
            "2\n",
            "3\n",
            "4\n"
          ],
          "name": "stdout"
        }
      ]
    }
  ]
}