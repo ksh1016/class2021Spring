{
  "nbformat": 4,
  "nbformat_minor": 0,
  "metadata": {
    "colab": {
      "name": "20210331",
      "provenance": [],
      "collapsed_sections": [],
      "authorship_tag": "ABX9TyNWGT3Oq5NTZAex/RGfK5NC",
      "include_colab_link": true
    },
    "kernelspec": {
      "name": "python3",
      "display_name": "Python 3"
    },
    "language_info": {
      "name": "python"
    }
  },
  "cells": [
    {
      "cell_type": "markdown",
      "metadata": {
        "id": "view-in-github",
        "colab_type": "text"
      },
      "source": [
        "<a href=\"https://colab.research.google.com/github/ksh1016/class2021Spring/blob/main/20210331.ipynb\" target=\"_parent\"><img src=\"https://colab.research.google.com/assets/colab-badge.svg\" alt=\"Open In Colab\"/></a>"
      ]
    },
    {
      "cell_type": "markdown",
      "metadata": {
        "id": "N8je5bwy32SM"
      },
      "source": [
        "a: pitch(119.8 Hz), intensity(55.25dB) formant(624.1Hz, 1231Hz),  duration(0.379579sec)<br>\n",
        "e: pitch(243.6Hz), intensity(59.79dB), formant(725.2Hz, 2565Hz), duration(0.352222sec)"
      ]
    }
  ]
}