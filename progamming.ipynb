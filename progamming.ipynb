{
  "nbformat": 4,
  "nbformat_minor": 0,
  "metadata": {
    "colab": {
      "name": "progamming",
      "provenance": [],
      "authorship_tag": "ABX9TyMr3OVqclE/z1CBswq9ubLk",
      "include_colab_link": true
    },
    "kernelspec": {
      "name": "python3",
      "display_name": "Python 3"
    }
  },
  "cells": [
    {
      "cell_type": "markdown",
      "metadata": {
        "id": "view-in-github",
        "colab_type": "text"
      },
      "source": [
        "<a href=\"https://colab.research.google.com/github/ksh1016/class2021Spring/blob/main/progamming.ipynb\" target=\"_parent\"><img src=\"https://colab.research.google.com/assets/colab-badge.svg\" alt=\"Open In Colab\"/></a>"
      ]
    },
    {
      "cell_type": "markdown",
      "metadata": {
        "id": "hup7fplDhvSS"
      },
      "source": [
        "인간의 언어: 단어+문법\r\n",
        "\r\n",
        "- 프로그래밍 language\r\n",
        "1. '='으로 표시 ex) a=1(a는 변수variable)\r\n",
        "2. '='는 같다는 뜻이 아니라, 오른쪽의 내용을 왼쪽에 assign 하는 것\r\n",
        "3. 문자를 넣을 수도 있음 ''를 표시해야됨ex) c='love'\r\n",
        "\r\n",
        "- 문법=제어문\r\n",
        "1. 반복: 'for' ex) for 100 print 1 (print 1을 100번 반복)\r\n",
        "2. 조건:'if' ex) a=1 if a==1 print 3 (3이 print 된다)\r\n",
        "'==' : 는 (=이랑 혼동하지 말것)\r\n",
        "\r\n",
        "- 함수\r\n",
        "1. 정의: 입출력 관계(입력--> 출력 사이에 변화)\r\n",
        "input--> function--> output\r\n",
        "2. y=f(x) y는 출력, x는 입력\r\n",
        "3. 일상생활 속의 함수 예: 인간의 몸(감각, 음식물 등이 입력이 되는 것)\r\n",
        "4. 함수 이름 정의 가능: ex) fuction add\r\n"
      ]
    },
    {
      "cell_type": "code",
      "metadata": {
        "id": "H8xfS_ELklDe"
      },
      "source": [
        ""
      ],
      "execution_count": null,
      "outputs": []
    }
  ]
}