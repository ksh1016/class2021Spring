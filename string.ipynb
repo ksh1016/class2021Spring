{
  "nbformat": 4,
  "nbformat_minor": 0,
  "metadata": {
    "kernelspec": {
      "display_name": "Python 3",
      "language": "python",
      "name": "python3"
    },
    "language_info": {
      "codemirror_mode": {
        "name": "ipython",
        "version": 3
      },
      "file_extension": ".py",
      "mimetype": "text/x-python",
      "name": "python",
      "nbconvert_exporter": "python",
      "pygments_lexer": "ipython3",
      "version": "3.7.1"
    },
    "colab": {
      "name": "string.ipynb",
      "provenance": [],
      "include_colab_link": true
    }
  },
  "cells": [
    {
      "cell_type": "markdown",
      "metadata": {
        "id": "view-in-github",
        "colab_type": "text"
      },
      "source": [
        "<a href=\"https://colab.research.google.com/github/ksh1016/class2021Spring/blob/main/string.ipynb\" target=\"_parent\"><img src=\"https://colab.research.google.com/assets/colab-badge.svg\" alt=\"Open In Colab\"/></a>"
      ]
    },
    {
      "cell_type": "code",
      "metadata": {
        "id": "q3rAOE-wurKY",
        "colab": {
          "base_uri": "https://localhost:8080/"
        },
        "outputId": "f0aa0a5a-dad5-4da8-831e-5838ab1f93c1"
      },
      "source": [
        "s = 'abcdef'\n",
        "print(s[0], s[5], s[-1], s[-6])\n",
        "print(s[1:3], s[1:], s[:3], s[:])"
      ],
      "execution_count": null,
      "outputs": [
        {
          "output_type": "stream",
          "text": [
            "a f f a\n",
            "bc bcdef abc abcdef\n"
          ],
          "name": "stdout"
        }
      ]
    },
    {
      "cell_type": "code",
      "metadata": {
        "id": "6gW7LcAjurKe",
        "colab": {
          "base_uri": "https://localhost:8080/"
        },
        "outputId": "3086bfa9-4c28-4e1d-92f1-ea1fafab8ca2"
      },
      "source": [
        "n = [100, 200, 300]\n",
        "print(n[0], n[2], n[-1], n[-3])\n",
        "print(n[1:2], n[1:], n[:2], n[:])"
      ],
      "execution_count": null,
      "outputs": [
        {
          "output_type": "stream",
          "text": [
            "100 300 300 100\n",
            "[200] [200, 300] [100, 200] [100, 200, 300]\n"
          ],
          "name": "stdout"
        }
      ]
    },
    {
      "cell_type": "code",
      "metadata": {
        "id": "yhH3dnJJurKf",
        "colab": {
          "base_uri": "https://localhost:8080/"
        },
        "outputId": "6a685fdb-9a6a-4e75-a02f-48cae4193b16"
      },
      "source": [
        "len(s)"
      ],
      "execution_count": null,
      "outputs": [
        {
          "output_type": "execute_result",
          "data": {
            "text/plain": [
              "6"
            ]
          },
          "metadata": {
            "tags": []
          },
          "execution_count": 3
        }
      ]
    },
    {
      "cell_type": "code",
      "metadata": {
        "id": "CuIxLEgWurKf",
        "colab": {
          "base_uri": "https://localhost:8080/",
          "height": 36
        },
        "outputId": "d0e57164-a796-4d95-a8db-6bab2d325df1"
      },
      "source": [
        "s[1]+s[3]+s[4:]*8"
      ],
      "execution_count": null,
      "outputs": [
        {
          "output_type": "execute_result",
          "data": {
            "application/vnd.google.colaboratory.intrinsic+json": {
              "type": "string"
            },
            "text/plain": [
              "'bdefefefefefefefef'"
            ]
          },
          "metadata": {
            "tags": []
          },
          "execution_count": 5
        }
      ]
    },
    {
      "cell_type": "code",
      "metadata": {
        "id": "B-4Qj7h5urKg",
        "colab": {
          "base_uri": "https://localhost:8080/",
          "height": 36
        },
        "outputId": "28825420-6d4d-4b59-c6cd-e68acbd31e5a"
      },
      "source": [
        "s.upper()"
      ],
      "execution_count": null,
      "outputs": [
        {
          "output_type": "execute_result",
          "data": {
            "application/vnd.google.colaboratory.intrinsic+json": {
              "type": "string"
            },
            "text/plain": [
              "'ABCDEF'"
            ]
          },
          "metadata": {
            "tags": []
          },
          "execution_count": 6
        }
      ]
    },
    {
      "cell_type": "code",
      "metadata": {
        "id": "NH4kiUqBurKg",
        "colab": {
          "base_uri": "https://localhost:8080/",
          "height": 36
        },
        "outputId": "1781e8b8-a1df-463a-f747-49f06599d13f"
      },
      "source": [
        "s = ' this is a house built this year.\\n' \t\n",
        "s"
      ],
      "execution_count": null,
      "outputs": [
        {
          "output_type": "execute_result",
          "data": {
            "application/vnd.google.colaboratory.intrinsic+json": {
              "type": "string"
            },
            "text/plain": [
              "' this is a house built this year.\\n'"
            ]
          },
          "metadata": {
            "tags": []
          },
          "execution_count": 7
        }
      ]
    },
    {
      "cell_type": "code",
      "metadata": {
        "id": "fLQKJxqgurKg",
        "colab": {
          "base_uri": "https://localhost:8080/"
        },
        "outputId": "a115dea0-e772-4e44-c475-19bc39acdad8"
      },
      "source": [
        "result = s.find('house') \t    # index of first instance of string t inside s (-1 if not found)\n",
        "result"
      ],
      "execution_count": null,
      "outputs": [
        {
          "output_type": "execute_result",
          "data": {
            "text/plain": [
              "11"
            ]
          },
          "metadata": {
            "tags": []
          },
          "execution_count": 8
        }
      ]
    },
    {
      "cell_type": "code",
      "metadata": {
        "id": "q8gAMAnFurKh",
        "colab": {
          "base_uri": "https://localhost:8080/"
        },
        "outputId": "c5a2b604-ae59-40d9-ec0b-8a36421d29ed"
      },
      "source": [
        "result = s.find('this')\t    # index of last instance of string t inside s (-1 if not found)\n",
        "result"
      ],
      "execution_count": null,
      "outputs": [
        {
          "output_type": "execute_result",
          "data": {
            "text/plain": [
              "1"
            ]
          },
          "metadata": {
            "tags": []
          },
          "execution_count": 9
        }
      ]
    },
    {
      "cell_type": "code",
      "metadata": {
        "id": "hEP3BGLIurKh",
        "colab": {
          "base_uri": "https://localhost:8080/"
        },
        "outputId": "4eeba0fa-f70c-47c5-f344-f3cd1437933c"
      },
      "source": [
        "result = s.rindex('this')        # like s.find(t) except it raises ValueError if not found\n",
        "result"
      ],
      "execution_count": null,
      "outputs": [
        {
          "output_type": "execute_result",
          "data": {
            "text/plain": [
              "23"
            ]
          },
          "metadata": {
            "tags": []
          },
          "execution_count": 11
        }
      ]
    },
    {
      "cell_type": "code",
      "metadata": {
        "id": "CpFnxuosurKh",
        "colab": {
          "base_uri": "https://localhost:8080/",
          "height": 36
        },
        "outputId": "ea247098-787b-43d1-e15b-3f2dab3104ce"
      },
      "source": [
        "s = s.strip()      \t            # a copy of s without leading or trailing whitespace\n",
        "s"
      ],
      "execution_count": null,
      "outputs": [
        {
          "output_type": "execute_result",
          "data": {
            "application/vnd.google.colaboratory.intrinsic+json": {
              "type": "string"
            },
            "text/plain": [
              "'this is a house built this year.'"
            ]
          },
          "metadata": {
            "tags": []
          },
          "execution_count": 12
        }
      ]
    },
    {
      "cell_type": "code",
      "metadata": {
        "id": "2upnpA4aurKi",
        "outputId": "a18d13c9-a9af-4bfc-f6aa-c1544753e4d7"
      },
      "source": [
        "tokens = s.split(' ')\t        # split s into a list wherever a t is found (whitespace by default)\n",
        "tokens"
      ],
      "execution_count": null,
      "outputs": [
        {
          "output_type": "execute_result",
          "data": {
            "text/plain": [
              "['this', 'is', 'a', 'house', 'built', 'this', 'year.']"
            ]
          },
          "metadata": {
            "tags": []
          },
          "execution_count": 15
        }
      ]
    },
    {
      "cell_type": "code",
      "metadata": {
        "id": "HIUkcuqaurKi",
        "outputId": "b795e3ba-6271-4b95-b3d0-0dca7864e9c4"
      },
      "source": [
        "s = ' '.join(tokens)\t        # combine the words of the text into a string using s as the glue\n",
        "s"
      ],
      "execution_count": null,
      "outputs": [
        {
          "output_type": "execute_result",
          "data": {
            "text/plain": [
              "'this is a house built this year.'"
            ]
          },
          "metadata": {
            "tags": []
          },
          "execution_count": 16
        }
      ]
    },
    {
      "cell_type": "code",
      "metadata": {
        "id": "NZC37X6eurKi",
        "colab": {
          "base_uri": "https://localhost:8080/",
          "height": 36
        },
        "outputId": "9dd7cc99-14ad-4d8f-dca9-35038840b6a4"
      },
      "source": [
        "s = s.replace('this', 'that')   # replace instances of t with u inside s\n",
        "s"
      ],
      "execution_count": null,
      "outputs": [
        {
          "output_type": "execute_result",
          "data": {
            "application/vnd.google.colaboratory.intrinsic+json": {
              "type": "string"
            },
            "text/plain": [
              "'that is a house built that year.'"
            ]
          },
          "metadata": {
            "tags": []
          },
          "execution_count": 13
        }
      ]
    }
  ]
}