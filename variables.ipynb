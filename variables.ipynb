{
  "nbformat": 4,
  "nbformat_minor": 0,
  "metadata": {
    "kernelspec": {
      "display_name": "Python 3",
      "language": "python",
      "name": "python3"
    },
    "language_info": {
      "codemirror_mode": {
        "name": "ipython",
        "version": 3
      },
      "file_extension": ".py",
      "mimetype": "text/x-python",
      "name": "python",
      "nbconvert_exporter": "python",
      "pygments_lexer": "ipython3",
      "version": "3.7.1"
    },
    "colab": {
      "name": "variables.ipynb",
      "provenance": [],
      "include_colab_link": true
    }
  },
  "cells": [
    {
      "cell_type": "markdown",
      "metadata": {
        "id": "view-in-github",
        "colab_type": "text"
      },
      "source": [
        "<a href=\"https://colab.research.google.com/github/ksh1016/class2021Spring/blob/main/variables.ipynb\" target=\"_parent\"><img src=\"https://colab.research.google.com/assets/colab-badge.svg\" alt=\"Open In Colab\"/></a>"
      ]
    },
    {
      "cell_type": "code",
      "metadata": {
        "id": "goAyoU7vRheI",
        "outputId": "012008f8-c190-4999-d1a5-c9adc7d4b699",
        "colab": {
          "base_uri": "https://localhost:8080/"
        }
      },
      "source": [
        "a = 1; print(type(a))"
      ],
      "execution_count": 1,
      "outputs": [
        {
          "output_type": "stream",
          "text": [
            "<class 'int'>\n"
          ],
          "name": "stdout"
        }
      ]
    },
    {
      "cell_type": "code",
      "metadata": {
        "id": "txxnoqJuRheJ",
        "outputId": "c444b220-04e0-41ee-d8f8-30ba6539b9c0",
        "colab": {
          "base_uri": "https://localhost:8080/"
        }
      },
      "source": [
        "a = 1; a = float(a); print(type(a))"
      ],
      "execution_count": 2,
      "outputs": [
        {
          "output_type": "stream",
          "text": [
            "<class 'float'>\n"
          ],
          "name": "stdout"
        }
      ]
    },
    {
      "cell_type": "code",
      "metadata": {
        "id": "By9UCBctRheK",
        "outputId": "b0e2dc33-a3e3-4801-ffe4-b69ac0c74b13"
      },
      "source": [
        "a = 1.2; a = int(a); print(type(a))"
      ],
      "execution_count": null,
      "outputs": [
        {
          "output_type": "stream",
          "text": [
            "<class 'int'>\n"
          ],
          "name": "stdout"
        }
      ]
    },
    {
      "cell_type": "code",
      "metadata": {
        "id": "SyP0PB86RheL",
        "outputId": "e10d274f-e7fd-4cdd-a822-847fb83560ec"
      },
      "source": [
        "a = '123'; print(type(a)); print(a[1])"
      ],
      "execution_count": null,
      "outputs": [
        {
          "output_type": "stream",
          "text": [
            "<class 'str'>\n",
            "2\n"
          ],
          "name": "stdout"
        }
      ]
    },
    {
      "cell_type": "code",
      "metadata": {
        "id": "byDy9oFERheL",
        "outputId": "bfc3fed4-2c45-4830-a723-0981b1b02914"
      },
      "source": [
        "a = '123'; a = list(a); print(type(a)); print(a); print(a[2])"
      ],
      "execution_count": null,
      "outputs": [
        {
          "output_type": "stream",
          "text": [
            "<class 'list'>\n",
            "['1', '2', '3']\n",
            "3\n"
          ],
          "name": "stdout"
        }
      ]
    },
    {
      "cell_type": "code",
      "metadata": {
        "id": "DfS-gknCRheL",
        "outputId": "d8181420-063c-4c88-e923-c2e5ef05b950",
        "colab": {
          "base_uri": "https://localhost:8080/"
        }
      },
      "source": [
        "a = [1,'2', [3, '4']]; print(type(a)); print(a[0]); print(a[1]); print(a[2])"
      ],
      "execution_count": 3,
      "outputs": [
        {
          "output_type": "stream",
          "text": [
            "<class 'list'>\n",
            "1\n",
            "2\n",
            "[3, '4']\n"
          ],
          "name": "stdout"
        }
      ]
    },
    {
      "cell_type": "code",
      "metadata": {
        "id": "wuUZdEnyRheM",
        "outputId": "f9813421-8dae-4d9e-bdca-fc462af54b83",
        "colab": {
          "base_uri": "https://localhost:8080/"
        }
      },
      "source": [
        "a = (1,'2', [3, '4']); print(type(a)); print(a[0]); print(a[1]); print(a[2])"
      ],
      "execution_count": 4,
      "outputs": [
        {
          "output_type": "stream",
          "text": [
            "<class 'tuple'>\n",
            "1\n",
            "2\n",
            "[3, '4']\n"
          ],
          "name": "stdout"
        }
      ]
    },
    {
      "cell_type": "code",
      "metadata": {
        "id": "2sivfloGRheM",
        "outputId": "c76f848f-a3cb-4e03-f078-6454a07f5da0",
        "colab": {
          "base_uri": "https://localhost:8080/"
        }
      },
      "source": [
        "a =\t{\"a\": \"apple\", \"b\": \"orange\", \"c\": 2014}\n",
        "print(type(a))\n",
        "print(a[\"a\"])"
      ],
      "execution_count": 5,
      "outputs": [
        {
          "output_type": "stream",
          "text": [
            "<class 'dict'>\n",
            "apple\n"
          ],
          "name": "stdout"
        }
      ]
    },
    {
      "cell_type": "code",
      "metadata": {
        "id": "A7teRXuCRheN",
        "outputId": "79a99306-d858-4682-a61e-a21c74bd903d"
      },
      "source": [
        "a=[(1,2,3), (3,8,0)]\n",
        "print(type(a))\n",
        "a"
      ],
      "execution_count": null,
      "outputs": [
        {
          "output_type": "stream",
          "text": [
            "<class 'list'>\n"
          ],
          "name": "stdout"
        },
        {
          "output_type": "execute_result",
          "data": {
            "text/plain": [
              "[(1, 2, 3), (3, 8, 0)]"
            ]
          },
          "metadata": {
            "tags": []
          },
          "execution_count": 27
        }
      ]
    }
  ]
}